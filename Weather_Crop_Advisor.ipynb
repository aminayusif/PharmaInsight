{
  "nbformat": 4,
  "nbformat_minor": 0,
  "metadata": {
    "colab": {
      "provenance": [],
      "authorship_tag": "ABX9TyPKdoaV2s66dDCxzGkUYF0C",
      "include_colab_link": true
    },
    "kernelspec": {
      "name": "python3",
      "display_name": "Python 3"
    },
    "language_info": {
      "name": "python"
    }
  },
  "cells": [
    {
      "cell_type": "markdown",
      "metadata": {
        "id": "view-in-github",
        "colab_type": "text"
      },
      "source": [
        "<a href=\"https://colab.research.google.com/github/aminayusif/Weather-Crop-Advisor/blob/main/Weather_Crop_Advisor.ipynb\" target=\"_parent\"><img src=\"https://colab.research.google.com/assets/colab-badge.svg\" alt=\"Open In Colab\"/></a>"
      ]
    },
    {
      "cell_type": "markdown",
      "source": [
        "## Introduction"
      ],
      "metadata": {
        "id": "VTYKdePo1wwA"
      }
    },
    {
      "cell_type": "markdown",
      "source": [
        "Agricultural productivity is highly influenced by environmental conditions such as temperature, rainfall, soil properties, and humidity. Farmers, especially in developing regions, often face challenges in selecting the most suitable crops for planting due to unpredictable weather patterns and limited access to expert guidance. This can lead to poor yields, wasted resources, and economic losses.\n",
        "\n",
        "The **Weather-Based Crop Advisor** project aims to support farmers in making informed decisions by using machine learning to recommend the best crops to plant based on prevailing agro-meteorological and soil conditions. By analyzing features like temperature, rainfall, humidity, and soil pH, the system learns patterns from historical data to predict the most suitable crops for a given set of conditions.\n",
        "\n",
        "This project simulates or integrates environmental datasets to train and evaluate classification models (e.g., decision trees, random forests, or logistic regression) for crop recommendation. The ultimate goal is to provide data-driven insights that empower farmers to optimize yield, reduce risk, and adapt more effectively to climate variability.\n",
        "\n",
        "By leveraging machine learning in agriculture, this project demonstrates how data science can contribute to sustainable farming, food security, and rural development."
      ],
      "metadata": {
        "id": "VzsM9j934Ge0"
      }
    },
    {
      "cell_type": "markdown",
      "source": [
        "## Objectives"
      ],
      "metadata": {
        "id": "qtUWqPwDAysG"
      }
    },
    {
      "cell_type": "markdown",
      "source": [
        "### 1. Crop Recommendation using Classification"
      ],
      "metadata": {
        "id": "goO3M9bZA4MS"
      }
    },
    {
      "cell_type": "markdown",
      "source": [
        "Predict the most suitable crop (crop_type) to grow based on weather and soil conditions using classification algorithms like Random Forest, Decision Tree, Support Vector Machine (SVM), K-Nearest Neighbors (KNN)"
      ],
      "metadata": {
        "id": "nWd_65wQBSk-"
      }
    },
    {
      "cell_type": "markdown",
      "source": [
        "### 2. Yield Prediction using Regression"
      ],
      "metadata": {
        "id": "DRkfHailDrNH"
      }
    },
    {
      "cell_type": "markdown",
      "source": [
        "Predict crop yield (in kg/hectare or tons) based on environmental factors by using algorithms like Random Forest Regressor, Linear Regression, Gradient Boosting (e.g., XGBoost), Support Vector Regression (SVR)."
      ],
      "metadata": {
        "id": "Eq5xZM1JIwjR"
      }
    },
    {
      "cell_type": "markdown",
      "source": [
        "### 3. Time Series Forecasting"
      ],
      "metadata": {
        "id": "26lby1xmKkhn"
      }
    },
    {
      "cell_type": "markdown",
      "source": [
        "Forecast future rainfall/temperature to assist crop decision using ARIMA or Prophet (by Facebook) for weather trends."
      ],
      "metadata": {
        "id": "_jQo0MjpKndr"
      }
    },
    {
      "cell_type": "markdown",
      "source": [
        "## Dataset Overview"
      ],
      "metadata": {
        "id": "Ttt_1TDv7g5X"
      }
    },
    {
      "cell_type": "markdown",
      "source": [
        " The dataset for this case study is provided in the file simulated_crop_weather_data.csv and contains approximately 2,000 records. The key attributes include:\n",
        "\n",
        " | Column          | Description                            |\n",
        "| --------------- | -------------------------------------- |\n",
        "| `id`            | Unique identifier                      |\n",
        "| `date`          | Observation date                       |\n",
        "| `region`        | Geographic area within Ghana where the crop is grown\n",
        "| `temperature`   | Temperature in °C                      |\n",
        "| `rainfall`      | Rainfall in mm                         |\n",
        "| `humidity`      | Humidity percentage                    |\n",
        "| `soil_moisture` | Soil moisture percentage               |\n",
        "| `soil_type`     | Soil type (e.g., Sandy, Clay, Loamy)          |\n",
        "| `crop_type`     | Crop grown **(target variable)**           |\n",
        "| `yield_kg`      | Yield in kilograms **(regression target)** |\n",
        "| `soil_pH`      |                          |\n",
        "| `fertilizer_used` |                    |\n",
        "| `fertilizer_quantity_kg` |                |\n",
        "| `pesticide_used`     |           |\n",
        "| `planting_method`     |           |\n",
        "| `elevation_m`      |  |\n",
        "| `slope_percent`     |           |\n",
        "| `season`      | |\n"
      ],
      "metadata": {
        "id": "rXP0ja1qMSQp"
      }
    }
  ]
}