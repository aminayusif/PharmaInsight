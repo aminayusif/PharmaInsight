{
  "nbformat": 4,
  "nbformat_minor": 0,
  "metadata": {
    "colab": {
      "provenance": [],
      "toc_visible": true,
      "authorship_tag": "ABX9TyOPtQjkbtsjv3/0zZJ/prZL",
      "include_colab_link": true
    },
    "kernelspec": {
      "name": "python3",
      "display_name": "Python 3"
    },
    "language_info": {
      "name": "python"
    }
  },
  "cells": [
    {
      "cell_type": "markdown",
      "metadata": {
        "id": "view-in-github",
        "colab_type": "text"
      },
      "source": [
        "<a href=\"https://colab.research.google.com/github/aminayusif/Weather-Crop-Advisor/blob/main/Weather_Crop_Advisor.ipynb\" target=\"_parent\"><img src=\"https://colab.research.google.com/assets/colab-badge.svg\" alt=\"Open In Colab\"/></a>"
      ]
    },
    {
      "cell_type": "markdown",
      "source": [
        "## Introduction"
      ],
      "metadata": {
        "id": "VTYKdePo1wwA"
      }
    },
    {
      "cell_type": "markdown",
      "source": [
        "Agricultural productivity is highly influenced by environmental conditions such as temperature, rainfall, soil properties, and humidity. Farmers, especially in developing regions, often face challenges in selecting the most suitable crops for planting due to unpredictable weather patterns and limited access to expert guidance. This can lead to poor yields, wasted resources, and economic losses.\n",
        "\n",
        "The **Weather-Based Crop Advisor** project aims to support farmers in making informed decisions by using machine learning to recommend the best crops to plant based on prevailing agro-meteorological and soil conditions. By analyzing features like temperature, rainfall, humidity, and soil pH, the system learns patterns from historical data to predict the most suitable crops for a given set of conditions.\n",
        "\n",
        "This project simulates or integrates environmental datasets to train and evaluate classification models (e.g., decision trees, random forests, or logistic regression) for crop recommendation. The ultimate goal is to provide data-driven insights that empower farmers to optimize yield, reduce risk, and adapt more effectively to climate variability.\n",
        "\n",
        "By leveraging machine learning in agriculture, this project demonstrates how data science can contribute to sustainable farming, food security, and rural development."
      ],
      "metadata": {
        "id": "VzsM9j934Ge0"
      }
    },
    {
      "cell_type": "markdown",
      "source": [
        "## Objectives"
      ],
      "metadata": {
        "id": "qtUWqPwDAysG"
      }
    },
    {
      "cell_type": "markdown",
      "source": [
        "### 1. Crop Recommendation using Classification"
      ],
      "metadata": {
        "id": "goO3M9bZA4MS"
      }
    },
    {
      "cell_type": "markdown",
      "source": [
        "Predict the most suitable crop (crop_type) to grow based on weather and soil conditions using classification algorithms like Random Forest, Decision Tree, Support Vector Machine (SVM), K-Nearest Neighbors (KNN)"
      ],
      "metadata": {
        "id": "nWd_65wQBSk-"
      }
    },
    {
      "cell_type": "markdown",
      "source": [
        "### 2. Yield Prediction using Regression"
      ],
      "metadata": {
        "id": "DRkfHailDrNH"
      }
    },
    {
      "cell_type": "markdown",
      "source": [
        "Predict crop yield (in kg/hectare or tons) based on environmental factors by using algorithms like Random Forest Regressor, Linear Regression, Gradient Boosting (e.g., XGBoost), Support Vector Regression (SVR)."
      ],
      "metadata": {
        "id": "Eq5xZM1JIwjR"
      }
    },
    {
      "cell_type": "markdown",
      "source": [
        "### 3. Time Series Forecasting"
      ],
      "metadata": {
        "id": "26lby1xmKkhn"
      }
    },
    {
      "cell_type": "markdown",
      "source": [
        "Forecast future rainfall/temperature to assist crop decision using ARIMA or Prophet (by Facebook) for weather trends."
      ],
      "metadata": {
        "id": "_jQo0MjpKndr"
      }
    },
    {
      "cell_type": "markdown",
      "source": [
        "## Dataset Overview"
      ],
      "metadata": {
        "id": "Ttt_1TDv7g5X"
      }
    },
    {
      "cell_type": "markdown",
      "source": [
        " The dataset for this case study is provided in the file\n",
        "\n",
        "**simulated_crop_weather_data.csv** and contains approximately 2,000 records. The key attributes include:\n",
        "\n",
        " | Column          | Description                            |\n",
        "| --------------- | -------------------------------------- |\n",
        "| `id`            | Unique identifier                      |\n",
        "| `date`          | Observation date                       |\n",
        "| `region`        | Geographic area within Ghana where the crop is grown\n",
        "| `temperature`   | Temperature in °C                      |\n",
        "| `rainfall`      | Rainfall in mm                         |\n",
        "| `humidity`      | Humidity percentage                    |\n",
        "| `soil_moisture` | Soil moisture percentage               |\n",
        "| `soil_type`     | Soil type (e.g., Sandy, Clay, Loamy)          |\n",
        "| `crop_type`     | Crop grown **(target variable)**           |\n",
        "| `crop_variety`     | Specific variety of the crop (e.g., Obatanpa maize)**           |\n",
        "| `yield_kg`      | Yield in kilograms **(regression target)** |\n",
        "| `soil_pH`      |  Represents the acidity or alkalinity of the soil (can be a key feature in predicting crop suitability)                        |\n",
        "| `fertilizer_used` | Type of fertilizer applied (e.g., NPK, Urea, Organic, None)                   |\n",
        "| `fertilizer_quantity_kg` | Quantity of fertilizer applied per hectare               |\n",
        "| `pesticide_used`     | Whether pesticide was applied (Yes/No)          |\n",
        "| `planting_method`     |  Direct seeding, transplanting, broadcasting, etc.         |\n",
        "| `elevation_m`      | Elevation of the farm above sea level (m) |\n",
        "| `season`     |  This column represents the agricultural season in which the crop was planted or harvested        |\n",
        "| `irrigation`      | Whether irrigation was used (Yes/No) |\n",
        "| `planting_density`     | Plants per square meter or hectare          |\n",
        "| `harvest_method`      |  This indicates the technique used to harvest the crop (Manual or Mechanized) |\n",
        "| `market_access_km`     |   Represents the distance (in kilometers) from the farm to the nearest market         |\n",
        "| `extension_services`      |  Indicates whether the farmer had access to agricultural extension services |\n",
        "      |\n"
      ],
      "metadata": {
        "id": "rXP0ja1qMSQp"
      }
    },
    {
      "cell_type": "markdown",
      "source": [],
      "metadata": {
        "id": "kmdLJgB5Vi_t"
      }
    },
    {
      "cell_type": "markdown",
      "source": [
        "## Data Exploration and Preprocessing"
      ],
      "metadata": {
        "id": "ndmwFZI6VOgF"
      }
    },
    {
      "cell_type": "markdown",
      "source": [
        "### Load and inspect dataset"
      ],
      "metadata": {
        "id": "PzblAHpOVXg0"
      }
    },
    {
      "cell_type": "code",
      "source": [
        "# Import libraries\n",
        "import pandas as pd\n",
        "import numpy as np\n",
        "from sklearn.ensemble import RandomForestClassifier\n",
        "from sklearn.model_selection import train_test_split\n",
        "from sklearn.metrics import classification_report, accuracy_score\n",
        "from sklearn.preprocessing import LabelEncoder, StandardScaler"
      ],
      "metadata": {
        "id": "fSupRThGXCdN"
      },
      "execution_count": null,
      "outputs": []
    }
  ]
}